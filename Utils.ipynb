{
 "cells": [
  {
   "cell_type": "code",
   "execution_count": 119,
   "metadata": {},
   "outputs": [],
   "source": [
    "import pandas as pd\n",
    "import numpy as np"
   ]
  },
  {
   "cell_type": "code",
   "execution_count": 2,
   "metadata": {},
   "outputs": [
    {
     "name": "stdout",
     "output_type": "stream",
     "text": [
      "<class 'pandas.core.frame.DataFrame'>\n",
      "RangeIndex: 23702 entries, 0 to 23701\n",
      "Data columns (total 5 columns):\n",
      "ENSEIGNE     23701 non-null object\n",
      "ADRESSE 1    23475 non-null object\n",
      "ADRESSE 2    3938 non-null object\n",
      "CP           23473 non-null float64\n",
      "VILLE        23478 non-null object\n",
      "dtypes: float64(1), object(4)\n",
      "memory usage: 925.9+ KB\n"
     ]
    }
   ],
   "source": [
    "df_stores = pd.read_csv(\"../../../../Desktop/store.csv\")\n",
    "df_stores.info()"
   ]
  },
  {
   "cell_type": "code",
   "execution_count": 4,
   "metadata": {},
   "outputs": [
    {
     "name": "stdout",
     "output_type": "stream",
     "text": [
      "<class 'pandas.core.frame.DataFrame'>\n",
      "Int64Index: 23475 entries, 0 to 23700\n",
      "Data columns (total 5 columns):\n",
      "ENSEIGNE     23475 non-null object\n",
      "ADRESSE 1    23475 non-null object\n",
      "ADRESSE 2    3938 non-null object\n",
      "CP           23473 non-null float64\n",
      "VILLE        23475 non-null object\n",
      "dtypes: float64(1), object(4)\n",
      "memory usage: 1.1+ MB\n"
     ]
    }
   ],
   "source": [
    "df_stores.dropna(subset=['ADRESSE 1'], inplace=True)\n",
    "df_stores.info()"
   ]
  },
  {
   "cell_type": "code",
   "execution_count": 5,
   "metadata": {},
   "outputs": [],
   "source": [
    "df_stores.to_csv(\"stores.csv\", index=False)"
   ]
  },
  {
   "cell_type": "markdown",
   "metadata": {},
   "source": [
    "## Export index ES to csv"
   ]
  },
  {
   "cell_type": "code",
   "execution_count": 82,
   "metadata": {},
   "outputs": [],
   "source": [
    "from elasticsearch import Elasticsearch\n",
    "import csv\n",
    "import unicodedata"
   ]
  },
  {
   "cell_type": "code",
   "execution_count": 83,
   "metadata": {},
   "outputs": [],
   "source": [
    "def connect_elasticsearch():\n",
    "    global client\n",
    "    _es = None\n",
    "    _es = Elasticsearch([{'host': '192.168.1.10', 'port': 9200}], http_auth=('aboutgoods', 'Vintage*'))\n",
    "    if _es.ping():\n",
    "        print('Connected to ElasticSearch!')\n",
    "    else:\n",
    "        print('Cannot connect to ElasticSearch!')\n",
    "    client = _es\n",
    "    return client"
   ]
  },
  {
   "cell_type": "code",
   "execution_count": 84,
   "metadata": {},
   "outputs": [
    {
     "name": "stdout",
     "output_type": "stream",
     "text": [
      "Connected to ElasticSearch!\n"
     ]
    }
   ],
   "source": [
    "client = connect_elasticsearch()"
   ]
  },
  {
   "cell_type": "code",
   "execution_count": 120,
   "metadata": {},
   "outputs": [],
   "source": [
    "# Replace the following Query with your own Elastic Search Query\n",
    "res = client.search(index=\"ids_google_places\", body=\n",
    "\t{\"query\": \n",
    "    {\n",
    "\t    \"match_all\": {}\n",
    "    }\n",
    "}, size=7031) "
   ]
  },
  {
   "cell_type": "code",
   "execution_count": 121,
   "metadata": {},
   "outputs": [],
   "source": [
    "hits = res['hits']['hits']\n",
    "sources = [x['_source'] for x in hits]"
   ]
  },
  {
   "cell_type": "code",
   "execution_count": 123,
   "metadata": {},
   "outputs": [
    {
     "data": {
      "text/html": [
       "<div>\n",
       "<style scoped>\n",
       "    .dataframe tbody tr th:only-of-type {\n",
       "        vertical-align: middle;\n",
       "    }\n",
       "\n",
       "    .dataframe tbody tr th {\n",
       "        vertical-align: top;\n",
       "    }\n",
       "\n",
       "    .dataframe thead th {\n",
       "        text-align: right;\n",
       "    }\n",
       "</style>\n",
       "<table border=\"1\" class=\"dataframe\">\n",
       "  <thead>\n",
       "    <tr style=\"text-align: right;\">\n",
       "      <th></th>\n",
       "      <th>googleResult</th>\n",
       "      <th>keywords</th>\n",
       "      <th>sign</th>\n",
       "      <th>zipOrCity</th>\n",
       "    </tr>\n",
       "  </thead>\n",
       "  <tbody>\n",
       "    <tr>\n",
       "      <th>0</th>\n",
       "      <td>{'formatted_address': 'Rue Georges Pompidou, 0...</td>\n",
       "      <td>BOUQUET_LEADER_PRICE_SAINT-QUENTIN</td>\n",
       "      <td>LEADER PRICE SAINT-QUENTIN</td>\n",
       "      <td>BOUQUET</td>\n",
       "    </tr>\n",
       "    <tr>\n",
       "      <th>1</th>\n",
       "      <td>{'formatted_address': 'Route de Ouistreham, 14...</td>\n",
       "      <td>SOLIGNY_LA_TRAPPE_LEADER_PRICE_SAINT_AUBIN_D'A...</td>\n",
       "      <td>LEADER PRICE SAINT AUBIN D'ARQUENAY</td>\n",
       "      <td>SOLIGNY LA TRAPPE</td>\n",
       "    </tr>\n",
       "    <tr>\n",
       "      <th>2</th>\n",
       "      <td>{'formatted_address': '28 Rue Rolland Vico, 14...</td>\n",
       "      <td>SOLIGNY_LA_TRAPPE_LEADER_PRICE_ST_GERMAIN_LA_B...</td>\n",
       "      <td>LEADER PRICE ST GERMAIN LA BLANCHE HERBE</td>\n",
       "      <td>SOLIGNY LA TRAPPE</td>\n",
       "    </tr>\n",
       "    <tr>\n",
       "      <th>3</th>\n",
       "      <td>{'formatted_address': 'Route de Ouistreham, 14...</td>\n",
       "      <td>JOURS_EN_VAUX_LEADER_PRICE_SAINT_AUBIN_D'ARQUENAY</td>\n",
       "      <td>LEADER PRICE SAINT AUBIN D'ARQUENAY</td>\n",
       "      <td>JOURS EN VAUX</td>\n",
       "    </tr>\n",
       "    <tr>\n",
       "      <th>4</th>\n",
       "      <td>{'formatted_address': 'Rue Georges Pompidou, 0...</td>\n",
       "      <td>ST_MAUR_LEADER_PRICE_SAINT-QUENTIN</td>\n",
       "      <td>LEADER PRICE SAINT-QUENTIN</td>\n",
       "      <td>ST MAUR</td>\n",
       "    </tr>\n",
       "  </tbody>\n",
       "</table>\n",
       "</div>"
      ],
      "text/plain": [
       "                                        googleResult  \\\n",
       "0  {'formatted_address': 'Rue Georges Pompidou, 0...   \n",
       "1  {'formatted_address': 'Route de Ouistreham, 14...   \n",
       "2  {'formatted_address': '28 Rue Rolland Vico, 14...   \n",
       "3  {'formatted_address': 'Route de Ouistreham, 14...   \n",
       "4  {'formatted_address': 'Rue Georges Pompidou, 0...   \n",
       "\n",
       "                                            keywords  \\\n",
       "0                 BOUQUET_LEADER_PRICE_SAINT-QUENTIN   \n",
       "1  SOLIGNY_LA_TRAPPE_LEADER_PRICE_SAINT_AUBIN_D'A...   \n",
       "2  SOLIGNY_LA_TRAPPE_LEADER_PRICE_ST_GERMAIN_LA_B...   \n",
       "3  JOURS_EN_VAUX_LEADER_PRICE_SAINT_AUBIN_D'ARQUENAY   \n",
       "4                 ST_MAUR_LEADER_PRICE_SAINT-QUENTIN   \n",
       "\n",
       "                                       sign          zipOrCity  \n",
       "0                LEADER PRICE SAINT-QUENTIN            BOUQUET  \n",
       "1       LEADER PRICE SAINT AUBIN D'ARQUENAY  SOLIGNY LA TRAPPE  \n",
       "2  LEADER PRICE ST GERMAIN LA BLANCHE HERBE  SOLIGNY LA TRAPPE  \n",
       "3       LEADER PRICE SAINT AUBIN D'ARQUENAY      JOURS EN VAUX  \n",
       "4                LEADER PRICE SAINT-QUENTIN            ST MAUR  "
      ]
     },
     "execution_count": 123,
     "metadata": {},
     "output_type": "execute_result"
    }
   ],
   "source": [
    "df = pd.DataFrame(sources)\n",
    "df.head()"
   ]
  },
  {
   "cell_type": "code",
   "execution_count": 124,
   "metadata": {},
   "outputs": [
    {
     "name": "stdout",
     "output_type": "stream",
     "text": [
      "<class 'pandas.core.frame.DataFrame'>\n",
      "RangeIndex: 7031 entries, 0 to 7030\n",
      "Data columns (total 13 columns):\n",
      "formatted_address     7031 non-null object\n",
      "geometry              7031 non-null object\n",
      "icon                  7031 non-null object\n",
      "id                    7031 non-null object\n",
      "name                  7031 non-null object\n",
      "opening_hours         6162 non-null object\n",
      "permanently_closed    623 non-null object\n",
      "photos                5854 non-null object\n",
      "place_id              7031 non-null object\n",
      "price_level           27 non-null float64\n",
      "rating                6266 non-null float64\n",
      "reference             7031 non-null object\n",
      "types                 7031 non-null object\n",
      "dtypes: float64(2), object(11)\n",
      "memory usage: 714.2+ KB\n"
     ]
    }
   ],
   "source": [
    "df_google_results= pd.DataFrame(df['googleResult'].tolist())\n",
    "df_google_results.info()"
   ]
  },
  {
   "cell_type": "code",
   "execution_count": 125,
   "metadata": {},
   "outputs": [
    {
     "name": "stdout",
     "output_type": "stream",
     "text": [
      "<class 'pandas.core.frame.DataFrame'>\n",
      "Int64Index: 2466 entries, 0 to 7017\n",
      "Data columns (total 13 columns):\n",
      "formatted_address     2466 non-null object\n",
      "geometry              2466 non-null object\n",
      "icon                  2466 non-null object\n",
      "id                    2466 non-null object\n",
      "name                  2466 non-null object\n",
      "opening_hours         2249 non-null object\n",
      "permanently_closed    26 non-null object\n",
      "photos                2147 non-null object\n",
      "place_id              2466 non-null object\n",
      "price_level           23 non-null float64\n",
      "rating                2299 non-null float64\n",
      "reference             2466 non-null object\n",
      "types                 2466 non-null object\n",
      "dtypes: float64(2), object(11)\n",
      "memory usage: 269.7+ KB\n"
     ]
    }
   ],
   "source": [
    "# keep unique id\n",
    "df_unique_id= df_google_results.drop_duplicates(subset=['place_id'])\n",
    "df_unique_id.info()"
   ]
  },
  {
   "cell_type": "code",
   "execution_count": 126,
   "metadata": {},
   "outputs": [],
   "source": [
    "#fill NAN with 0 in \"permanently_closed\"\n",
    "values = {'permanently_closed': 0}\n",
    "df_unique_id.fillna(values, inplace=True)"
   ]
  },
  {
   "cell_type": "code",
   "execution_count": 127,
   "metadata": {},
   "outputs": [
    {
     "name": "stdout",
     "output_type": "stream",
     "text": [
      "<class 'pandas.core.frame.DataFrame'>\n",
      "Int64Index: 2440 entries, 0 to 7017\n",
      "Data columns (total 13 columns):\n",
      "formatted_address     2440 non-null object\n",
      "geometry              2440 non-null object\n",
      "icon                  2440 non-null object\n",
      "id                    2440 non-null object\n",
      "name                  2440 non-null object\n",
      "opening_hours         2249 non-null object\n",
      "permanently_closed    2440 non-null object\n",
      "photos                2135 non-null object\n",
      "place_id              2440 non-null object\n",
      "price_level           22 non-null float64\n",
      "rating                2284 non-null float64\n",
      "reference             2440 non-null object\n",
      "types                 2440 non-null object\n",
      "dtypes: float64(2), object(11)\n",
      "memory usage: 266.9+ KB\n"
     ]
    }
   ],
   "source": [
    "# remove those who are closed\n",
    "df_unique_id_open = df_unique_id[df_unique_id['permanently_closed'] != True]\n",
    "df_unique_id_open.info()"
   ]
  },
  {
   "cell_type": "code",
   "execution_count": 128,
   "metadata": {},
   "outputs": [
    {
     "data": {
      "text/html": [
       "<div>\n",
       "<style scoped>\n",
       "    .dataframe tbody tr th:only-of-type {\n",
       "        vertical-align: middle;\n",
       "    }\n",
       "\n",
       "    .dataframe tbody tr th {\n",
       "        vertical-align: top;\n",
       "    }\n",
       "\n",
       "    .dataframe thead th {\n",
       "        text-align: right;\n",
       "    }\n",
       "</style>\n",
       "<table border=\"1\" class=\"dataframe\">\n",
       "  <thead>\n",
       "    <tr style=\"text-align: right;\">\n",
       "      <th></th>\n",
       "      <th>formatted_address</th>\n",
       "      <th>geometry</th>\n",
       "      <th>icon</th>\n",
       "      <th>id</th>\n",
       "      <th>name</th>\n",
       "      <th>opening_hours</th>\n",
       "      <th>permanently_closed</th>\n",
       "      <th>photos</th>\n",
       "      <th>place_id</th>\n",
       "      <th>price_level</th>\n",
       "      <th>rating</th>\n",
       "      <th>reference</th>\n",
       "      <th>types</th>\n",
       "    </tr>\n",
       "  </thead>\n",
       "  <tbody>\n",
       "    <tr>\n",
       "      <th>0</th>\n",
       "      <td>Rue Georges Pompidou, 02100 Saint-Quentin, France</td>\n",
       "      <td>{'location': {'lat': 49.8623231, 'lng': 3.2905...</td>\n",
       "      <td>https://maps.gstatic.com/mapfiles/place_api/ic...</td>\n",
       "      <td>1d82928e727ef87bc36129031a4d9ba222cccef0</td>\n",
       "      <td>Leader Price</td>\n",
       "      <td>{'open_now': True, 'weekday_text': []}</td>\n",
       "      <td>0</td>\n",
       "      <td>[{'height': 3984, 'html_attributions': ['&lt;a hr...</td>\n",
       "      <td>ChIJ-9GIEJsY6EcRbOSwsY-qrKc</td>\n",
       "      <td>NaN</td>\n",
       "      <td>3.6</td>\n",
       "      <td>CmRbAAAAi1Y-wKz4PLGvbgzOH2dHFcp3yQGcZ_4upud4k0...</td>\n",
       "      <td>[supermarket, grocery_or_supermarket, store, f...</td>\n",
       "    </tr>\n",
       "    <tr>\n",
       "      <th>1</th>\n",
       "      <td>Route de Ouistreham, 14970 Saint-Aubin-d'Arque...</td>\n",
       "      <td>{'location': {'lat': 49.2633901, 'lng': -0.280...</td>\n",
       "      <td>https://maps.gstatic.com/mapfiles/place_api/ic...</td>\n",
       "      <td>c55865115a5f3c2697923e8b6df27db1a4b58627</td>\n",
       "      <td>Leader Price</td>\n",
       "      <td>{'open_now': False, 'weekday_text': []}</td>\n",
       "      <td>0</td>\n",
       "      <td>[{'height': 1920, 'html_attributions': ['&lt;a hr...</td>\n",
       "      <td>ChIJ6X69z-tmCkgRUYdTnpxywgQ</td>\n",
       "      <td>NaN</td>\n",
       "      <td>3.8</td>\n",
       "      <td>CmRbAAAAiVKNM-c2o4Cdrzflw3aMdgH2tB0Wz3hKCNFZPY...</td>\n",
       "      <td>[supermarket, grocery_or_supermarket, store, f...</td>\n",
       "    </tr>\n",
       "    <tr>\n",
       "      <th>2</th>\n",
       "      <td>28 Rue Rolland Vico, 14280 Saint-Germain-la-Bl...</td>\n",
       "      <td>{'location': {'lat': 49.1892454, 'lng': -0.410...</td>\n",
       "      <td>https://maps.gstatic.com/mapfiles/place_api/ic...</td>\n",
       "      <td>3fe1fc36c8750bc9a8dd7d68ff239592bb9cb6a8</td>\n",
       "      <td>Leader Price</td>\n",
       "      <td>{'open_now': False, 'weekday_text': []}</td>\n",
       "      <td>0</td>\n",
       "      <td>[{'height': 1536, 'html_attributions': ['&lt;a hr...</td>\n",
       "      <td>ChIJ-fhb-jhDCkgRfT_UOhQJvvk</td>\n",
       "      <td>NaN</td>\n",
       "      <td>3.8</td>\n",
       "      <td>CmRbAAAAWnD8mfUMmZtlYZQz04Nln7p_EKCwBmCteEiFT2...</td>\n",
       "      <td>[supermarket, grocery_or_supermarket, store, f...</td>\n",
       "    </tr>\n",
       "    <tr>\n",
       "      <th>10</th>\n",
       "      <td>CHEMIN DE LA VOILERIE - PLAN DE CAMPAGNE, 1317...</td>\n",
       "      <td>{'location': {'lat': 43.4159485, 'lng': 5.3509...</td>\n",
       "      <td>https://maps.gstatic.com/mapfiles/place_api/ic...</td>\n",
       "      <td>e043bc5bd0be52d38bf83a33153b3dc4d678d8bd</td>\n",
       "      <td>Leader Price</td>\n",
       "      <td>{'open_now': True, 'weekday_text': []}</td>\n",
       "      <td>0</td>\n",
       "      <td>[{'height': 1836, 'html_attributions': ['&lt;a hr...</td>\n",
       "      <td>ChIJm7liGqDryRIR4Q73tgyF87w</td>\n",
       "      <td>NaN</td>\n",
       "      <td>1.0</td>\n",
       "      <td>CmRbAAAAnpGunPs4HeArGLdI_sKCIwpW46E-y6uCn2A9Oc...</td>\n",
       "      <td>[supermarket, grocery_or_supermarket, store, f...</td>\n",
       "    </tr>\n",
       "    <tr>\n",
       "      <th>13</th>\n",
       "      <td>Z.A. de la Plaine des Bois, 64300 Biron, France</td>\n",
       "      <td>{'location': {'lat': 43.46765449999999, 'lng':...</td>\n",
       "      <td>https://maps.gstatic.com/mapfiles/place_api/ic...</td>\n",
       "      <td>9a06365f543d023ed4cf79c138897d009805cdbb</td>\n",
       "      <td>Leader Price</td>\n",
       "      <td>{'open_now': True, 'weekday_text': []}</td>\n",
       "      <td>0</td>\n",
       "      <td>[{'height': 3328, 'html_attributions': ['&lt;a hr...</td>\n",
       "      <td>ChIJyeGSGafyVg0RvEE5ZXPUNZc</td>\n",
       "      <td>NaN</td>\n",
       "      <td>3.7</td>\n",
       "      <td>CmRbAAAAyHuQ3NO1brxA3MA2lXA2p7UNpqWcQz8no7E3tY...</td>\n",
       "      <td>[supermarket, grocery_or_supermarket, store, f...</td>\n",
       "    </tr>\n",
       "  </tbody>\n",
       "</table>\n",
       "</div>"
      ],
      "text/plain": [
       "                                    formatted_address  \\\n",
       "0   Rue Georges Pompidou, 02100 Saint-Quentin, France   \n",
       "1   Route de Ouistreham, 14970 Saint-Aubin-d'Arque...   \n",
       "2   28 Rue Rolland Vico, 14280 Saint-Germain-la-Bl...   \n",
       "10  CHEMIN DE LA VOILERIE - PLAN DE CAMPAGNE, 1317...   \n",
       "13    Z.A. de la Plaine des Bois, 64300 Biron, France   \n",
       "\n",
       "                                             geometry  \\\n",
       "0   {'location': {'lat': 49.8623231, 'lng': 3.2905...   \n",
       "1   {'location': {'lat': 49.2633901, 'lng': -0.280...   \n",
       "2   {'location': {'lat': 49.1892454, 'lng': -0.410...   \n",
       "10  {'location': {'lat': 43.4159485, 'lng': 5.3509...   \n",
       "13  {'location': {'lat': 43.46765449999999, 'lng':...   \n",
       "\n",
       "                                                 icon  \\\n",
       "0   https://maps.gstatic.com/mapfiles/place_api/ic...   \n",
       "1   https://maps.gstatic.com/mapfiles/place_api/ic...   \n",
       "2   https://maps.gstatic.com/mapfiles/place_api/ic...   \n",
       "10  https://maps.gstatic.com/mapfiles/place_api/ic...   \n",
       "13  https://maps.gstatic.com/mapfiles/place_api/ic...   \n",
       "\n",
       "                                          id          name  \\\n",
       "0   1d82928e727ef87bc36129031a4d9ba222cccef0  Leader Price   \n",
       "1   c55865115a5f3c2697923e8b6df27db1a4b58627  Leader Price   \n",
       "2   3fe1fc36c8750bc9a8dd7d68ff239592bb9cb6a8  Leader Price   \n",
       "10  e043bc5bd0be52d38bf83a33153b3dc4d678d8bd  Leader Price   \n",
       "13  9a06365f543d023ed4cf79c138897d009805cdbb  Leader Price   \n",
       "\n",
       "                              opening_hours permanently_closed  \\\n",
       "0    {'open_now': True, 'weekday_text': []}                  0   \n",
       "1   {'open_now': False, 'weekday_text': []}                  0   \n",
       "2   {'open_now': False, 'weekday_text': []}                  0   \n",
       "10   {'open_now': True, 'weekday_text': []}                  0   \n",
       "13   {'open_now': True, 'weekday_text': []}                  0   \n",
       "\n",
       "                                               photos  \\\n",
       "0   [{'height': 3984, 'html_attributions': ['<a hr...   \n",
       "1   [{'height': 1920, 'html_attributions': ['<a hr...   \n",
       "2   [{'height': 1536, 'html_attributions': ['<a hr...   \n",
       "10  [{'height': 1836, 'html_attributions': ['<a hr...   \n",
       "13  [{'height': 3328, 'html_attributions': ['<a hr...   \n",
       "\n",
       "                       place_id  price_level  rating  \\\n",
       "0   ChIJ-9GIEJsY6EcRbOSwsY-qrKc          NaN     3.6   \n",
       "1   ChIJ6X69z-tmCkgRUYdTnpxywgQ          NaN     3.8   \n",
       "2   ChIJ-fhb-jhDCkgRfT_UOhQJvvk          NaN     3.8   \n",
       "10  ChIJm7liGqDryRIR4Q73tgyF87w          NaN     1.0   \n",
       "13  ChIJyeGSGafyVg0RvEE5ZXPUNZc          NaN     3.7   \n",
       "\n",
       "                                            reference  \\\n",
       "0   CmRbAAAAi1Y-wKz4PLGvbgzOH2dHFcp3yQGcZ_4upud4k0...   \n",
       "1   CmRbAAAAiVKNM-c2o4Cdrzflw3aMdgH2tB0Wz3hKCNFZPY...   \n",
       "2   CmRbAAAAWnD8mfUMmZtlYZQz04Nln7p_EKCwBmCteEiFT2...   \n",
       "10  CmRbAAAAnpGunPs4HeArGLdI_sKCIwpW46E-y6uCn2A9Oc...   \n",
       "13  CmRbAAAAyHuQ3NO1brxA3MA2lXA2p7UNpqWcQz8no7E3tY...   \n",
       "\n",
       "                                                types  \n",
       "0   [supermarket, grocery_or_supermarket, store, f...  \n",
       "1   [supermarket, grocery_or_supermarket, store, f...  \n",
       "2   [supermarket, grocery_or_supermarket, store, f...  \n",
       "10  [supermarket, grocery_or_supermarket, store, f...  \n",
       "13  [supermarket, grocery_or_supermarket, store, f...  "
      ]
     },
     "execution_count": 128,
     "metadata": {},
     "output_type": "execute_result"
    }
   ],
   "source": [
    "df_unique_id_open.head()"
   ]
  },
  {
   "cell_type": "code",
   "execution_count": 129,
   "metadata": {},
   "outputs": [],
   "source": [
    "def rename_longitude(x):\n",
    "    x['lon'] = x.pop('lng')\n",
    "    return x"
   ]
  },
  {
   "cell_type": "code",
   "execution_count": 130,
   "metadata": {},
   "outputs": [
    {
     "name": "stderr",
     "output_type": "stream",
     "text": [
      "/Users/olga/anaconda3/envs/text_classif/lib/python3.6/site-packages/ipykernel/__main__.py:2: SettingWithCopyWarning: \n",
      "A value is trying to be set on a copy of a slice from a DataFrame.\n",
      "Try using .loc[row_indexer,col_indexer] = value instead\n",
      "\n",
      "See the caveats in the documentation: http://pandas.pydata.org/pandas-docs/stable/indexing.html#indexing-view-versus-copy\n",
      "  from ipykernel import kernelapp as app\n",
      "/Users/olga/anaconda3/envs/text_classif/lib/python3.6/site-packages/ipykernel/__main__.py:3: SettingWithCopyWarning: \n",
      "A value is trying to be set on a copy of a slice from a DataFrame.\n",
      "Try using .loc[row_indexer,col_indexer] = value instead\n",
      "\n",
      "See the caveats in the documentation: http://pandas.pydata.org/pandas-docs/stable/indexing.html#indexing-view-versus-copy\n",
      "  app.launch_new_instance()\n"
     ]
    },
    {
     "data": {
      "text/plain": [
       "0             {'lat': 49.8623231, 'lon': 3.2905382}\n",
       "1            {'lat': 49.2633901, 'lon': -0.2809238}\n",
       "2            {'lat': 49.1892454, 'lon': -0.4101137}\n",
       "10            {'lat': 43.4159485, 'lon': 5.3509117}\n",
       "13    {'lat': 43.46765449999999, 'lon': -0.7510006}\n",
       "Name: location, dtype: object"
      ]
     },
     "execution_count": 130,
     "metadata": {},
     "output_type": "execute_result"
    }
   ],
   "source": [
    "# extract location as \"location\": {\"lat\": 0.00, \"lon\": 0.00}\n",
    "df_unique_id_open['location'] = df_unique_id_open['geometry'].apply(lambda x: x['location'])\n",
    "df_unique_id_open['location'] = df_unique_id_open['location'].apply(rename_longitude)\n",
    "df_unique_id_open['location'].head()"
   ]
  },
  {
   "cell_type": "code",
   "execution_count": 131,
   "metadata": {},
   "outputs": [
    {
     "name": "stderr",
     "output_type": "stream",
     "text": [
      "/Users/olga/anaconda3/envs/text_classif/lib/python3.6/site-packages/ipykernel/__main__.py:3: SettingWithCopyWarning: \n",
      "A value is trying to be set on a copy of a slice from a DataFrame.\n",
      "Try using .loc[row_indexer,col_indexer] = value instead\n",
      "\n",
      "See the caveats in the documentation: http://pandas.pydata.org/pandas-docs/stable/indexing.html#indexing-view-versus-copy\n",
      "  app.launch_new_instance()\n"
     ]
    }
   ],
   "source": [
    "df_unique_id_open.drop(columns=['geometry', 'icon', 'permanently_closed', 'reference', 'opening_hours', 'price_level'], inplace=True)\n",
    "df_unique_id_open.rename(columns={\"types\": \"google_type\", \"id\":\"uid\"}, inplace=True)\n",
    "df_unique_id_open['phone'] = np.nan"
   ]
  },
  {
   "cell_type": "markdown",
   "metadata": {},
   "source": [
    "### new_google_places"
   ]
  },
  {
   "cell_type": "code",
   "execution_count": 113,
   "metadata": {},
   "outputs": [],
   "source": [
    "# Replace the following Query with your own Elastic Search Query\n",
    "res_new = client.search(index=\"ids_new_google_places\", body=\n",
    "\t{\"query\": \n",
    "    {\n",
    "\t    \"match_all\": {}\n",
    "    }\n",
    "}, size=1000) "
   ]
  },
  {
   "cell_type": "code",
   "execution_count": 114,
   "metadata": {},
   "outputs": [],
   "source": [
    "hits_new = res_new['hits']['hits']\n",
    "sources_new = [x['_source'] for x in hits_new]"
   ]
  },
  {
   "cell_type": "code",
   "execution_count": 115,
   "metadata": {},
   "outputs": [
    {
     "name": "stdout",
     "output_type": "stream",
     "text": [
      "<class 'pandas.core.frame.DataFrame'>\n",
      "RangeIndex: 120 entries, 0 to 119\n",
      "Data columns (total 14 columns):\n",
      "formatted_address     120 non-null object\n",
      "geometry              120 non-null object\n",
      "icon                  120 non-null object\n",
      "id                    120 non-null object\n",
      "name                  120 non-null object\n",
      "opening_hours         116 non-null object\n",
      "permanently_closed    3 non-null object\n",
      "photos                112 non-null object\n",
      "place_id              120 non-null object\n",
      "plus_code             1 non-null object\n",
      "rating                116 non-null float64\n",
      "reference             120 non-null object\n",
      "types                 120 non-null object\n",
      "phone                 48 non-null object\n",
      "dtypes: float64(1), object(13)\n",
      "memory usage: 13.2+ KB\n"
     ]
    }
   ],
   "source": [
    "df_new = pd.DataFrame(sources_new)\n",
    "df_new_google_results= pd.DataFrame(df_new['googleResult'].tolist())\n",
    "df_new_google_results['phone'] = df_new['phone']\n",
    "df_new_google_results.info()"
   ]
  },
  {
   "cell_type": "code",
   "execution_count": 116,
   "metadata": {},
   "outputs": [
    {
     "name": "stdout",
     "output_type": "stream",
     "text": [
      "<class 'pandas.core.frame.DataFrame'>\n",
      "Int64Index: 108 entries, 0 to 119\n",
      "Data columns (total 14 columns):\n",
      "formatted_address     108 non-null object\n",
      "geometry              108 non-null object\n",
      "icon                  108 non-null object\n",
      "id                    108 non-null object\n",
      "name                  108 non-null object\n",
      "opening_hours         107 non-null object\n",
      "permanently_closed    108 non-null object\n",
      "photos                103 non-null object\n",
      "place_id              108 non-null object\n",
      "plus_code             1 non-null object\n",
      "rating                107 non-null float64\n",
      "reference             108 non-null object\n",
      "types                 108 non-null object\n",
      "phone                 44 non-null object\n",
      "dtypes: float64(1), object(13)\n",
      "memory usage: 12.7+ KB\n"
     ]
    }
   ],
   "source": [
    "# keep unique id\n",
    "df_unique_id_new= df_new_google_results.drop_duplicates(subset=['place_id'])\n",
    "#fill NAN with 0 in \"permanently_closed\"\n",
    "values = {'permanently_closed': 0}\n",
    "df_unique_id_new.fillna(values, inplace=True)\n",
    "# remove those who are closed\n",
    "df_unique_id_open_new = df_unique_id_new[df_unique_id_new['permanently_closed'] != True]\n",
    "df_unique_id_open_new.info()"
   ]
  },
  {
   "cell_type": "code",
   "execution_count": 117,
   "metadata": {},
   "outputs": [
    {
     "name": "stderr",
     "output_type": "stream",
     "text": [
      "/Users/olga/anaconda3/envs/text_classif/lib/python3.6/site-packages/ipykernel/__main__.py:2: SettingWithCopyWarning: \n",
      "A value is trying to be set on a copy of a slice from a DataFrame.\n",
      "Try using .loc[row_indexer,col_indexer] = value instead\n",
      "\n",
      "See the caveats in the documentation: http://pandas.pydata.org/pandas-docs/stable/indexing.html#indexing-view-versus-copy\n",
      "  from ipykernel import kernelapp as app\n",
      "/Users/olga/anaconda3/envs/text_classif/lib/python3.6/site-packages/ipykernel/__main__.py:3: SettingWithCopyWarning: \n",
      "A value is trying to be set on a copy of a slice from a DataFrame.\n",
      "Try using .loc[row_indexer,col_indexer] = value instead\n",
      "\n",
      "See the caveats in the documentation: http://pandas.pydata.org/pandas-docs/stable/indexing.html#indexing-view-versus-copy\n",
      "  app.launch_new_instance()\n"
     ]
    },
    {
     "data": {
      "text/plain": [
       "0            {'lat': 43.4971751, 'lon': 4.9770878}\n",
       "1                {'lat': 47.85161, 'lon': -0.3518}\n",
       "2            {'lat': 50.6513748, 'lon': 2.9786365}\n",
       "3             {'lat': 49.6432278, 'lon': 3.258766}\n",
       "4    {'lat': 47.5001478, 'lon': 7.308362199999999}\n",
       "Name: location, dtype: object"
      ]
     },
     "execution_count": 117,
     "metadata": {},
     "output_type": "execute_result"
    }
   ],
   "source": [
    "# extract location as \"location\": {\"lat\": 0.00, \"lon\": 0.00}\n",
    "df_unique_id_open_new ['location'] = df_unique_id_open_new ['geometry'].apply(lambda x: x['location'])\n",
    "df_unique_id_open_new ['location'] = df_unique_id_open_new ['location'].apply(rename_longitude)\n",
    "df_unique_id_open_new ['location'].head()"
   ]
  },
  {
   "cell_type": "code",
   "execution_count": 118,
   "metadata": {},
   "outputs": [
    {
     "data": {
      "text/html": [
       "<div>\n",
       "<style scoped>\n",
       "    .dataframe tbody tr th:only-of-type {\n",
       "        vertical-align: middle;\n",
       "    }\n",
       "\n",
       "    .dataframe tbody tr th {\n",
       "        vertical-align: top;\n",
       "    }\n",
       "\n",
       "    .dataframe thead th {\n",
       "        text-align: right;\n",
       "    }\n",
       "</style>\n",
       "<table border=\"1\" class=\"dataframe\">\n",
       "  <thead>\n",
       "    <tr style=\"text-align: right;\">\n",
       "      <th></th>\n",
       "      <th>formatted_address</th>\n",
       "      <th>uid</th>\n",
       "      <th>name</th>\n",
       "      <th>photos</th>\n",
       "      <th>place_id</th>\n",
       "      <th>rating</th>\n",
       "      <th>google_type</th>\n",
       "      <th>phone</th>\n",
       "      <th>location</th>\n",
       "    </tr>\n",
       "  </thead>\n",
       "  <tbody>\n",
       "    <tr>\n",
       "      <th>0</th>\n",
       "      <td>Route de Fos sur Mer Centre Commercial les, Ch...</td>\n",
       "      <td>159bc724b7feb66ecbf053866f53c402103b21a2</td>\n",
       "      <td>Géant Casino</td>\n",
       "      <td>[{'height': 2988, 'html_attributions': ['&lt;a hr...</td>\n",
       "      <td>ChIJBxhHbYIcthIRN6b-gFN8wbY</td>\n",
       "      <td>3.6</td>\n",
       "      <td>[supermarket, grocery_or_supermarket, store, f...</td>\n",
       "      <td>0442411400</td>\n",
       "      <td>{'lat': 43.4971751, 'lon': 4.9770878}</td>\n",
       "    </tr>\n",
       "    <tr>\n",
       "      <th>1</th>\n",
       "      <td>Route de Laval, 72300 Sablé-sur-Sarthe, France</td>\n",
       "      <td>e395c7a2227ccb54a923b124c88dd7d432e65023</td>\n",
       "      <td>Super U</td>\n",
       "      <td>[{'height': 3120, 'html_attributions': ['&lt;a hr...</td>\n",
       "      <td>ChIJD7IYQztHCEgROccwOr1jgx0</td>\n",
       "      <td>3.7</td>\n",
       "      <td>[supermarket, grocery_or_supermarket, store, f...</td>\n",
       "      <td>0243551010</td>\n",
       "      <td>{'lat': 47.85161, 'lon': -0.3518}</td>\n",
       "    </tr>\n",
       "    <tr>\n",
       "      <th>2</th>\n",
       "      <td>130 rue Du Grand But Boîte Postale, 129, 59160...</td>\n",
       "      <td>dfd1ecc7c78d3e972a43e723170a15467b99b72e</td>\n",
       "      <td>Carrefour</td>\n",
       "      <td>[{'height': 3024, 'html_attributions': ['&lt;a hr...</td>\n",
       "      <td>ChIJDThMsVfVwkcRwU5c7RtYjGM</td>\n",
       "      <td>3.4</td>\n",
       "      <td>[supermarket, bank, car_rental, travel_agency,...</td>\n",
       "      <td>None</td>\n",
       "      <td>{'lat': 50.6513748, 'lon': 2.9786365}</td>\n",
       "    </tr>\n",
       "    <tr>\n",
       "      <th>3</th>\n",
       "      <td>Centre Commercial 32 Route Nationale, 02300 Vi...</td>\n",
       "      <td>a00b2de7d9376feae9815ff0c949299b4066adf2</td>\n",
       "      <td>Auchan Viry Noureuil</td>\n",
       "      <td>[{'height': 1080, 'html_attributions': ['&lt;a hr...</td>\n",
       "      <td>ChIJrYEb9LJq6EcRBdRx8OszPoo</td>\n",
       "      <td>3.8</td>\n",
       "      <td>[supermarket, grocery_or_supermarket, store, f...</td>\n",
       "      <td>0323578260</td>\n",
       "      <td>{'lat': 49.6432278, 'lon': 3.258766}</td>\n",
       "    </tr>\n",
       "    <tr>\n",
       "      <th>4</th>\n",
       "      <td>20 Rue de la 1ère Armée, 68480 Ferrette, France</td>\n",
       "      <td>b1a8765ceb80d4ac48b45289d1c8d8d76f50920e</td>\n",
       "      <td>Simply Market Ferrette</td>\n",
       "      <td>[{'height': 2976, 'html_attributions': ['&lt;a hr...</td>\n",
       "      <td>ChIJM0jsYo7skUcRLe1wLqkuKd4</td>\n",
       "      <td>3.7</td>\n",
       "      <td>[supermarket, bakery, grocery_or_supermarket, ...</td>\n",
       "      <td>0389403176</td>\n",
       "      <td>{'lat': 47.5001478, 'lon': 7.308362199999999}</td>\n",
       "    </tr>\n",
       "  </tbody>\n",
       "</table>\n",
       "</div>"
      ],
      "text/plain": [
       "                                   formatted_address  \\\n",
       "0  Route de Fos sur Mer Centre Commercial les, Ch...   \n",
       "1     Route de Laval, 72300 Sablé-sur-Sarthe, France   \n",
       "2  130 rue Du Grand But Boîte Postale, 129, 59160...   \n",
       "3  Centre Commercial 32 Route Nationale, 02300 Vi...   \n",
       "4    20 Rue de la 1ère Armée, 68480 Ferrette, France   \n",
       "\n",
       "                                        uid                    name  \\\n",
       "0  159bc724b7feb66ecbf053866f53c402103b21a2            Géant Casino   \n",
       "1  e395c7a2227ccb54a923b124c88dd7d432e65023                 Super U   \n",
       "2  dfd1ecc7c78d3e972a43e723170a15467b99b72e               Carrefour   \n",
       "3  a00b2de7d9376feae9815ff0c949299b4066adf2    Auchan Viry Noureuil   \n",
       "4  b1a8765ceb80d4ac48b45289d1c8d8d76f50920e  Simply Market Ferrette   \n",
       "\n",
       "                                              photos  \\\n",
       "0  [{'height': 2988, 'html_attributions': ['<a hr...   \n",
       "1  [{'height': 3120, 'html_attributions': ['<a hr...   \n",
       "2  [{'height': 3024, 'html_attributions': ['<a hr...   \n",
       "3  [{'height': 1080, 'html_attributions': ['<a hr...   \n",
       "4  [{'height': 2976, 'html_attributions': ['<a hr...   \n",
       "\n",
       "                      place_id  rating  \\\n",
       "0  ChIJBxhHbYIcthIRN6b-gFN8wbY     3.6   \n",
       "1  ChIJD7IYQztHCEgROccwOr1jgx0     3.7   \n",
       "2  ChIJDThMsVfVwkcRwU5c7RtYjGM     3.4   \n",
       "3  ChIJrYEb9LJq6EcRBdRx8OszPoo     3.8   \n",
       "4  ChIJM0jsYo7skUcRLe1wLqkuKd4     3.7   \n",
       "\n",
       "                                         google_type       phone  \\\n",
       "0  [supermarket, grocery_or_supermarket, store, f...  0442411400   \n",
       "1  [supermarket, grocery_or_supermarket, store, f...  0243551010   \n",
       "2  [supermarket, bank, car_rental, travel_agency,...        None   \n",
       "3  [supermarket, grocery_or_supermarket, store, f...  0323578260   \n",
       "4  [supermarket, bakery, grocery_or_supermarket, ...  0389403176   \n",
       "\n",
       "                                        location  \n",
       "0          {'lat': 43.4971751, 'lon': 4.9770878}  \n",
       "1              {'lat': 47.85161, 'lon': -0.3518}  \n",
       "2          {'lat': 50.6513748, 'lon': 2.9786365}  \n",
       "3           {'lat': 49.6432278, 'lon': 3.258766}  \n",
       "4  {'lat': 47.5001478, 'lon': 7.308362199999999}  "
      ]
     },
     "execution_count": 118,
     "metadata": {},
     "output_type": "execute_result"
    }
   ],
   "source": [
    "df_unique_id_open_new.drop(columns=['geometry', 'icon', 'permanently_closed', 'reference', 'opening_hours', 'plus_code'], inplace=True)\n",
    "df_unique_id_open_new.rename(columns={\"types\": \"google_type\", \"id\":\"uid\"}, inplace=True)\n",
    "df_unique_id_open_new.head()"
   ]
  },
  {
   "cell_type": "markdown",
   "metadata": {},
   "source": [
    "### Concatenate 2 dataframes of Google"
   ]
  },
  {
   "cell_type": "code",
   "execution_count": 132,
   "metadata": {},
   "outputs": [
    {
     "name": "stdout",
     "output_type": "stream",
     "text": [
      "<class 'pandas.core.frame.DataFrame'>\n",
      "Int64Index: 2548 entries, 0 to 7017\n",
      "Data columns (total 9 columns):\n",
      "formatted_address    2548 non-null object\n",
      "google_type          2548 non-null object\n",
      "location             2548 non-null object\n",
      "name                 2548 non-null object\n",
      "phone                44 non-null object\n",
      "photos               2238 non-null object\n",
      "place_id             2548 non-null object\n",
      "rating               2391 non-null float64\n",
      "uid                  2548 non-null object\n",
      "dtypes: float64(1), object(8)\n",
      "memory usage: 199.1+ KB\n"
     ]
    },
    {
     "name": "stderr",
     "output_type": "stream",
     "text": [
      "/Users/olga/anaconda3/envs/text_classif/lib/python3.6/site-packages/ipykernel/__main__.py:1: FutureWarning: Sorting because non-concatenation axis is not aligned. A future version\n",
      "of pandas will change to not sort by default.\n",
      "\n",
      "To accept the future behavior, pass 'sort=False'.\n",
      "\n",
      "To retain the current behavior and silence the warning, pass 'sort=True'.\n",
      "\n",
      "  if __name__ == '__main__':\n"
     ]
    }
   ],
   "source": [
    "df_merged = pd.concat([df_unique_id_open_new,df_unique_id_open])\n",
    "df_merged.info()"
   ]
  },
  {
   "cell_type": "code",
   "execution_count": 139,
   "metadata": {},
   "outputs": [],
   "source": [
    "df_merged['phone'] = df_merged['phone'].astype('str')"
   ]
  },
  {
   "cell_type": "code",
   "execution_count": 143,
   "metadata": {},
   "outputs": [
    {
     "data": {
      "text/plain": [
       "str"
      ]
     },
     "execution_count": 143,
     "metadata": {},
     "output_type": "execute_result"
    }
   ],
   "source": [
    "type(df_merged['phone'].tolist()[1])"
   ]
  },
  {
   "cell_type": "code",
   "execution_count": 144,
   "metadata": {},
   "outputs": [
    {
     "data": {
      "text/plain": [
       "'0243551010'"
      ]
     },
     "execution_count": 144,
     "metadata": {},
     "output_type": "execute_result"
    }
   ],
   "source": [
    "df_merged['phone'].tolist()[1]"
   ]
  },
  {
   "cell_type": "code",
   "execution_count": 145,
   "metadata": {},
   "outputs": [],
   "source": [
    "df_merged.to_csv(\"../../cleaned_google_places.csv\", index=False)"
   ]
  },
  {
   "cell_type": "code",
   "execution_count": null,
   "metadata": {},
   "outputs": [],
   "source": []
  }
 ],
 "metadata": {
  "kernelspec": {
   "display_name": "Python [conda env:text_classif]",
   "language": "python",
   "name": "conda-env-text_classif-py"
  },
  "language_info": {
   "codemirror_mode": {
    "name": "ipython",
    "version": 3
   },
   "file_extension": ".py",
   "mimetype": "text/x-python",
   "name": "python",
   "nbconvert_exporter": "python",
   "pygments_lexer": "ipython3",
   "version": "3.6.6"
  }
 },
 "nbformat": 4,
 "nbformat_minor": 2
}
